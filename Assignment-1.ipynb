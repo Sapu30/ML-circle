{
 "cells": [
  {
   "cell_type": "markdown",
   "metadata": {},
   "source": [
    "# 1. Write a function that returns the maximum of two numbers."
   ]
  },
  {
   "cell_type": "code",
   "execution_count": 1,
   "metadata": {},
   "outputs": [
    {
     "name": "stdout",
     "output_type": "stream",
     "text": [
      "Enter 1st value:54\n",
      "Enter 2nd value:23\n",
      "maximum of a & b :  54\n"
     ]
    }
   ],
   "source": [
    "a=int(input(\"Enter 1st value:\"))\n",
    "b=int(input(\"Enter 2nd value:\"))\n",
    "c=max(a,b)\n",
    "print(\"maximum of a & b : \",max(a,b))"
   ]
  },
  {
   "cell_type": "markdown",
   "metadata": {},
   "source": [
    "# 2. Write a function called fizz_buzz that takes a number.\n",
    "#  • If the number is divisible by 3, it should return “Fizz”.                                    \n",
    "# • If it is divisible by 5, it should return “Buzz”.  \n",
    "# • If it is divisible by both 3 and 5, it should return “FizzBuzz”.   \n",
    "# • Otherwise, it should return the same number."
   ]
  },
  {
   "cell_type": "code",
   "execution_count": 2,
   "metadata": {},
   "outputs": [
    {
     "name": "stdout",
     "output_type": "stream",
     "text": [
      "Enter value:45\n",
      "Fizzbuzz\n"
     ]
    }
   ],
   "source": [
    "def fizz_buzz(n):\n",
    "    if(n%3==0 and n%5!=0):\n",
    "        return \"Fizz\"\n",
    "    elif(n%5==0 and n%3!=0):\n",
    "        return \"Buzz\"\n",
    "    elif(n%3==0 and n%5==0):\n",
    "        return \"Fizzbuzz\"\n",
    "    else:\n",
    "        return n\n",
    "    \n",
    "val=int(input(\"Enter value:\"))\n",
    "print(fizz_buzz(val))"
   ]
  },
  {
   "cell_type": "markdown",
   "metadata": {},
   "source": [
    "# 3. Write a function for checking the speed of drivers. This function should have one parameter: speed.\n",
    "# • If speed is less than 70, it should print “Ok”.\n",
    "# • Otherwise, for every 5km above the speed limit (70), it should give the\n",
    "# driver one demerit point and print the total number of demerit points. For\n",
    "# example, if the speed is 80, it should print: “Points: 2”.\n",
    "# • If the driver gets more than 12 points, the function should print: “License\n",
    "# suspended”\n"
   ]
  },
  {
   "cell_type": "code",
   "execution_count": 3,
   "metadata": {},
   "outputs": [
    {
     "name": "stdout",
     "output_type": "stream",
     "text": [
      "Enter speed:170\n",
      "Points:  20\n",
      "License suspended\n"
     ]
    }
   ],
   "source": [
    "def check_speed(speed):\n",
    "    if(speed<70):\n",
    "        print(\"ok\")\n",
    "    else:\n",
    "        excess=speed-70\n",
    "        points=excess//5\n",
    "        print(\"Points: \",points)\n",
    "        if(points>12):\n",
    "            print(\"License suspended\")\n",
    "s=int(input(\"Enter speed:\"))\n",
    "check_speed(s)"
   ]
  },
  {
   "cell_type": "markdown",
   "metadata": {},
   "source": [
    "# 4. Write a function called showNumbers that takes a parameter called limit. It should print all the numbers between 0 and limit with a label to identify the even and odd numbers. \n"
   ]
  },
  {
   "cell_type": "code",
   "execution_count": 6,
   "metadata": {},
   "outputs": [
    {
     "name": "stdout",
     "output_type": "stream",
     "text": [
      "Enter limit:5\n",
      "0 EVEN\n",
      "1 ODD\n",
      "2 EVEN\n",
      "3 ODD\n",
      "4 EVEN\n"
     ]
    }
   ],
   "source": [
    "def showNumbers(limit):\n",
    "    for i in range(0,limit):\n",
    "        if(i%2==0):\n",
    "            print(i,\"EVEN\")\n",
    "        else:\n",
    "            print(i,\"ODD\")\n",
    "l=int(input(\"Enter limit:\"))\n",
    "showNumbers(l)"
   ]
  },
  {
   "cell_type": "markdown",
   "metadata": {},
   "source": [
    "# 5. Write a function that returns the sum of multiples of 3 and 5 between 0 and limit (parameter)."
   ]
  },
  {
   "cell_type": "code",
   "execution_count": 15,
   "metadata": {},
   "outputs": [
    {
     "name": "stdout",
     "output_type": "stream",
     "text": [
      "Enter limit:20\n",
      "3 5 6 9 10 12 15 18 "
     ]
    }
   ],
   "source": [
    "def sum_of_multiples(limit):\n",
    "    for i in range(1,limit):\n",
    "        if(i%3==0 or i%5==0):\n",
    "            print(i, end=\" \")\n",
    "\n",
    "l=int(input(\"Enter limit:\"))\n",
    "sum_of_multiples(l)"
   ]
  },
  {
   "cell_type": "code",
   "execution_count": null,
   "metadata": {},
   "outputs": [],
   "source": []
  }
 ],
 "metadata": {
  "kernelspec": {
   "display_name": "Python 3",
   "language": "python",
   "name": "python3"
  },
  "language_info": {
   "codemirror_mode": {
    "name": "ipython",
    "version": 3
   },
   "file_extension": ".py",
   "mimetype": "text/x-python",
   "name": "python",
   "nbconvert_exporter": "python",
   "pygments_lexer": "ipython3",
   "version": "3.7.2"
  }
 },
 "nbformat": 4,
 "nbformat_minor": 4
}
